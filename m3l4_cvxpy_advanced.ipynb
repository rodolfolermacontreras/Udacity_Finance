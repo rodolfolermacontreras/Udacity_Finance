{
 "cells": [
  {
   "cell_type": "markdown",
   "metadata": {},
   "source": [
    "# Advanced Portfolio Optimization using cvxpy"
   ]
  },
  {
   "cell_type": "markdown",
   "metadata": {},
   "source": [
    "## Install cvxpy and other libraries"
   ]
  },
  {
   "cell_type": "code",
   "execution_count": 1,
   "metadata": {},
   "outputs": [
    {
     "name": "stdout",
     "output_type": "stream",
     "text": [
      "Requirement already satisfied: colour==0.1.5 in /opt/conda/lib/python3.6/site-packages (from -r requirements.txt (line 1)) (0.1.5)\n",
      "Collecting cvxpy==1.0.3 (from -r requirements.txt (line 2))\n",
      "\u001b[?25l  Downloading https://files.pythonhosted.org/packages/a1/59/2613468ffbbe3a818934d06b81b9f4877fe054afbf4f99d2f43f398a0b34/cvxpy-1.0.3.tar.gz (880kB)\n",
      "\u001b[K    100% |████████████████████████████████| 880kB 4.7MB/s ta 0:00:011\n",
      "\u001b[?25hRequirement already satisfied: cycler==0.10.0 in /opt/conda/lib/python3.6/site-packages/cycler-0.10.0-py3.6.egg (from -r requirements.txt (line 3)) (0.10.0)\n",
      "Collecting numpy==1.14.5 (from -r requirements.txt (line 4))\n",
      "\u001b[?25l  Downloading https://files.pythonhosted.org/packages/68/1e/116ad560de97694e2d0c1843a7a0075cc9f49e922454d32f49a80eb6f1f2/numpy-1.14.5-cp36-cp36m-manylinux1_x86_64.whl (12.2MB)\n",
      "\u001b[K    100% |████████████████████████████████| 12.2MB 1.4MB/s eta 0:00:010% |▏                               | 81kB 5.2MB/s eta 0:00:03    4% |█▍                              | 532kB 7.6MB/s eta 0:00:02    7% |██▎                             | 880kB 6.1MB/s eta 0:00:02    22% |███████▍                        | 2.8MB 12.4MB/s eta 0:00:01    26% |████████▎                       | 3.2MB 9.3MB/s eta 0:00:01    29% |█████████▍                      | 3.6MB 8.4MB/s eta 0:00:02    33% |██████████▋                     | 4.0MB 8.8MB/s eta 0:00:01    36% |███████████▊                    | 4.4MB 7.2MB/s eta 0:00:02    40% |█████████████                   | 4.9MB 7.5MB/s eta 0:00:01    44% |██████████████▏                 | 5.4MB 9.8MB/s eta 0:00:01    55% |█████████████████▋              | 6.7MB 9.1MB/s eta 0:00:01    58% |██████████████████▉             | 7.2MB 10.9MB/s eta 0:00:01    62% |████████████████████            | 7.6MB 9.3MB/s eta 0:00:01    66% |█████████████████████▏          | 8.0MB 7.3MB/s eta 0:00:01    69% |██████████████████████▎         | 8.5MB 8.8MB/s eta 0:00:01    73% |███████████████████████▍        | 8.9MB 7.1MB/s eta 0:00:01    76% |████████████████████████▍       | 9.3MB 9.4MB/s eta 0:00:01    86% |███████████████████████████▋    | 10.5MB 8.3MB/s eta 0:00:01\n",
      "\u001b[?25hCollecting pandas==0.21.1 (from -r requirements.txt (line 5))\n",
      "\u001b[?25l  Downloading https://files.pythonhosted.org/packages/3a/e1/6c514df670b887c77838ab856f57783c07e8760f2e3d5939203a39735e0e/pandas-0.21.1-cp36-cp36m-manylinux1_x86_64.whl (26.2MB)\n",
      "\u001b[K    100% |████████████████████████████████| 26.2MB 810kB/s ta 0:00:011 0% |                                | 51kB 12.1MB/s eta 0:00:03    3% |█▏                              | 911kB 8.9MB/s eta 0:00:03    6% |██▎                             | 1.8MB 11.9MB/s eta 0:00:03    12% |████                            | 3.3MB 12.6MB/s eta 0:00:02    16% |█████▎                          | 4.3MB 13.7MB/s eta 0:00:02    20% |██████▌                         | 5.3MB 22.4MB/s eta 0:00:01    22% |███████▏                        | 5.9MB 8.1MB/s eta 0:00:03    25% |████████▎                       | 6.8MB 9.1MB/s eta 0:00:03    29% |█████████▎                      | 7.6MB 6.9MB/s eta 0:00:03    30% |██████████                      | 8.1MB 13.7MB/s eta 0:00:02    37% |████████████                    | 9.8MB 11.3MB/s eta 0:00:02    39% |████████████▌                   | 10.2MB 8.2MB/s eta 0:00:02    42% |█████████████▌                  | 11.1MB 10.3MB/s eta 0:00:02    46% |███████████████                 | 12.3MB 17.1MB/s eta 0:00:01    49% |████████████████                | 13.1MB 10.1MB/s eta 0:00:02    51% |████████████████▌               | 13.5MB 20.5MB/s eta 0:00:01    53% |█████████████████               | 14.0MB 8.5MB/s eta 0:00:02    58% |██████████████████▊             | 15.4MB 9.4MB/s eta 0:00:02    60% |███████████████████▎            | 15.8MB 11.5MB/s eta 0:00:01    62% |████████████████████            | 16.3MB 10.2MB/s eta 0:00:01    64% |████████████████████▉           | 17.0MB 16.2MB/s eta 0:00:01    67% |█████████████████████▌          | 17.6MB 7.1MB/s eta 0:00:02    69% |██████████████████████▎         | 18.3MB 9.7MB/s eta 0:00:01    74% |███████████████████████▉        | 19.6MB 10.4MB/s eta 0:00:01    77% |████████████████████████▉       | 20.3MB 8.8MB/s eta 0:00:01    78% |█████████████████████████▎      | 20.7MB 8.1MB/s eta 0:00:01    87% |████████████████████████████    | 22.9MB 9.8MB/s eta 0:00:01    88% |████████████████████████████▍   | 23.3MB 8.9MB/s eta 0:00:01    90% |█████████████████████████████   | 23.7MB 10.4MB/s eta 0:00:01    99% |███████████████████████████████▊| 26.0MB 11.2MB/s eta 0:00:01\n",
      "\u001b[?25hCollecting plotly==2.2.3 (from -r requirements.txt (line 6))\n",
      "\u001b[?25l  Downloading https://files.pythonhosted.org/packages/99/a6/8214b6564bf4ace9bec8a26e7f89832792be582c042c47c912d3201328a0/plotly-2.2.3.tar.gz (1.1MB)\n",
      "\u001b[K    100% |████████████████████████████████| 1.1MB 4.0MB/s ta 0:00:011   29% |█████████▍                      | 317kB 6.8MB/s eta 0:00:01    61% |███████████████████▊            | 665kB 10.0MB/s eta 0:00:01\n",
      "\u001b[?25hRequirement already satisfied: pyparsing==2.2.0 in /opt/conda/lib/python3.6/site-packages (from -r requirements.txt (line 7)) (2.2.0)\n",
      "Requirement already satisfied: python-dateutil==2.6.1 in /opt/conda/lib/python3.6/site-packages (from -r requirements.txt (line 8)) (2.6.1)\n",
      "Requirement already satisfied: pytz==2017.3 in /opt/conda/lib/python3.6/site-packages (from -r requirements.txt (line 9)) (2017.3)\n",
      "Requirement already satisfied: requests==2.18.4 in /opt/conda/lib/python3.6/site-packages (from -r requirements.txt (line 10)) (2.18.4)\n",
      "Collecting scipy==1.0.0 (from -r requirements.txt (line 11))\n",
      "\u001b[?25l  Downloading https://files.pythonhosted.org/packages/d8/5e/caa01ba7be11600b6a9d39265440d7b3be3d69206da887c42bef049521f2/scipy-1.0.0-cp36-cp36m-manylinux1_x86_64.whl (50.0MB)\n",
      "\u001b[K    100% |████████████████████████████████| 50.0MB 382kB/s ta 0:00:011 0% |                                | 122kB 6.5MB/s eta 0:00:08    1% |▌                               | 829kB 9.6MB/s eta 0:00:06    4% |█▋                              | 2.5MB 8.6MB/s eta 0:00:06    6% |██                              | 3.3MB 9.5MB/s eta 0:00:05    7% |██▍                             | 3.7MB 8.5MB/s eta 0:00:06    8% |██▋                             | 4.1MB 9.0MB/s eta 0:00:06    8% |██▉                             | 4.5MB 6.7MB/s eta 0:00:07    11% |███▋                            | 5.7MB 8.0MB/s eta 0:00:06    14% |████▊                           | 7.4MB 7.3MB/s eta 0:00:06    15% |█████                           | 7.7MB 3.9MB/s eta 0:00:11    16% |█████▏                          | 8.0MB 8.1MB/s eta 0:00:06    17% |█████▋                          | 8.7MB 5.5MB/s eta 0:00:08    18% |█████▉                          | 9.0MB 9.7MB/s eta 0:00:05    18% |██████                          | 9.4MB 7.8MB/s eta 0:00:06    20% |██████▌                         | 10.2MB 7.7MB/s eta 0:00:06    21% |██████▊                         | 10.5MB 7.1MB/s eta 0:00:06    22% |███████▎                        | 11.3MB 6.7MB/s eta 0:00:06    23% |███████▌                        | 11.7MB 8.5MB/s eta 0:00:05    25% |████████▏                       | 12.8MB 8.1MB/s eta 0:00:05    26% |████████▍                       | 13.2MB 9.2MB/s eta 0:00:05    27% |████████▉                       | 13.9MB 6.7MB/s eta 0:00:06    29% |█████████▎                      | 14.5MB 7.8MB/s eta 0:00:05    29% |█████████▋                      | 15.0MB 9.0MB/s eta 0:00:04    30% |█████████▊                      | 15.2MB 7.4MB/s eta 0:00:05    31% |██████████                      | 15.6MB 5.5MB/s eta 0:00:07    31% |██████████▏                     | 16.0MB 7.2MB/s eta 0:00:05    32% |██████████▌                     | 16.3MB 9.0MB/s eta 0:00:04    33% |██████████▊                     | 16.7MB 7.8MB/s eta 0:00:05    34% |███████████                     | 17.1MB 9.3MB/s eta 0:00:04    34% |███████████▏                    | 17.5MB 10.2MB/s eta 0:00:04    36% |███████████▋                    | 18.2MB 5.0MB/s eta 0:00:07    36% |███████████▉                    | 18.5MB 6.9MB/s eta 0:00:05    37% |████████████                    | 18.9MB 7.0MB/s eta 0:00:05    38% |████████████▎                   | 19.2MB 4.6MB/s eta 0:00:07    38% |████████████▌                   | 19.5MB 6.4MB/s eta 0:00:05    39% |████████████▊                   | 19.9MB 7.1MB/s eta 0:00:05    41% |█████████████▏                  | 20.6MB 9.8MB/s eta 0:00:04    42% |█████████████▌                  | 21.0MB 11.0MB/s eta 0:00:03    43% |█████████████▉                  | 21.6MB 7.0MB/s eta 0:00:05    43% |██████████████                  | 22.0MB 6.7MB/s eta 0:00:05    44% |██████████████▎                 | 22.3MB 7.6MB/s eta 0:00:04    45% |██████████████▌                 | 22.7MB 9.0MB/s eta 0:00:04    46% |██████████████▊                 | 23.1MB 8.5MB/s eta 0:00:04    46% |███████████████                 | 23.4MB 9.2MB/s eta 0:00:03    47% |███████████████▏                | 23.7MB 8.4MB/s eta 0:00:04    48% |███████████████▍                | 24.1MB 8.1MB/s eta 0:00:04    48% |███████████████▋                | 24.5MB 6.7MB/s eta 0:00:04    49% |███████████████▉                | 24.8MB 7.8MB/s eta 0:00:04    50% |████████████████                | 25.1MB 6.3MB/s eta 0:00:04    52% |████████████████▊               | 26.1MB 9.6MB/s eta 0:00:03    52% |█████████████████               | 26.4MB 9.5MB/s eta 0:00:03    53% |█████████████████▏              | 26.9MB 10.8MB/s eta 0:00:03    54% |█████████████████▍              | 27.2MB 6.3MB/s eta 0:00:04    55% |█████████████████▉              | 27.9MB 7.0MB/s eta 0:00:04    56% |██████████████████▏             | 28.3MB 8.5MB/s eta 0:00:03    57% |██████████████████▍             | 28.7MB 12.6MB/s eta 0:00:02    58% |██████████████████▋             | 29.1MB 7.2MB/s eta 0:00:03    59% |███████████████████             | 29.7MB 7.6MB/s eta 0:00:03    60% |███████████████████▎            | 30.1MB 6.7MB/s eta 0:00:03    61% |███████████████████▊            | 30.8MB 8.5MB/s eta 0:00:03    62% |████████████████████            | 31.2MB 7.5MB/s eta 0:00:03    63% |████████████████████▏           | 31.6MB 8.1MB/s eta 0:00:03    63% |████████████████████▍           | 32.0MB 9.5MB/s eta 0:00:02    64% |████████████████████▊           | 32.4MB 8.7MB/s eta 0:00:03    65% |█████████████████████           | 32.7MB 8.2MB/s eta 0:00:03    66% |█████████████████████▏          | 33.1MB 8.9MB/s eta 0:00:02    66% |█████████████████████▍          | 33.4MB 6.9MB/s eta 0:00:03    67% |█████████████████████▋          | 33.8MB 8.2MB/s eta 0:00:02    68% |█████████████████████▉          | 34.2MB 7.3MB/s eta 0:00:03    69% |██████████████████████          | 34.5MB 10.4MB/s eta 0:00:02    70% |██████████████████████▌         | 35.2MB 8.8MB/s eta 0:00:02    72% |███████████████████████         | 36.1MB 10.7MB/s eta 0:00:02    72% |███████████████████████▎        | 36.4MB 7.5MB/s eta 0:00:02    73% |███████████████████████▌        | 36.8MB 10.4MB/s eta 0:00:02    74% |███████████████████████▉        | 37.2MB 7.6MB/s eta 0:00:02    75% |████████████████████████        | 37.6MB 6.7MB/s eta 0:00:02    75% |████████████████████████▎       | 38.0MB 8.2MB/s eta 0:00:02    76% |████████████████████████▌       | 38.3MB 6.1MB/s eta 0:00:02    77% |████████████████████████▊       | 38.7MB 9.3MB/s eta 0:00:02    78% |█████████████████████████▎      | 39.5MB 9.1MB/s eta 0:00:02    79% |█████████████████████████▌      | 39.9MB 7.7MB/s eta 0:00:02    80% |█████████████████████████▉      | 40.4MB 17.0MB/s eta 0:00:01    81% |██████████████████████████      | 40.8MB 7.1MB/s eta 0:00:02    82% |██████████████████████████▍     | 41.2MB 9.5MB/s eta 0:00:01    83% |██████████████████████████▋     | 41.7MB 10.4MB/s eta 0:00:01    84% |███████████████████████████     | 42.1MB 8.1MB/s eta 0:00:01    84% |███████████████████████████▏    | 42.5MB 9.2MB/s eta 0:00:01    85% |███████████████████████████▌    | 42.9MB 9.9MB/s eta 0:00:01    87% |████████████████████████████    | 43.7MB 7.5MB/s eta 0:00:01    87% |████████████████████████████    | 43.9MB 1.1MB/s eta 0:00:06    88% |████████████████████████████▎   | 44.2MB 7.0MB/s eta 0:00:01    89% |████████████████████████████▌   | 44.6MB 10.6MB/s eta 0:00:01    89% |████████████████████████████▊   | 45.0MB 5.1MB/s eta 0:00:01    91% |█████████████████████████████▏  | 45.7MB 9.5MB/s eta 0:00:01    92% |█████████████████████████████▊  | 46.4MB 10.8MB/s eta 0:00:01    93% |██████████████████████████████  | 46.8MB 7.2MB/s eta 0:00:01    94% |██████████████████████████████▏ | 47.2MB 7.0MB/s eta 0:00:01    95% |██████████████████████████████▊ | 48.0MB 9.9MB/s eta 0:00:01    96% |███████████████████████████████ | 48.4MB 11.1MB/s eta 0:00:01    97% |███████████████████████████████▎| 48.8MB 6.8MB/s eta 0:00:01    98% |███████████████████████████████▌| 49.2MB 8.7MB/s eta 0:00:01    99% |███████████████████████████████▊| 49.6MB 9.3MB/s eta 0:00:01    99% |████████████████████████████████| 50.0MB 7.4MB/s eta 0:00:01\n",
      "\u001b[?25hRequirement already satisfied: scikit-learn==0.19.1 in /opt/conda/lib/python3.6/site-packages (from -r requirements.txt (line 12)) (0.19.1)\n",
      "Requirement already satisfied: six==1.11.0 in /opt/conda/lib/python3.6/site-packages (from -r requirements.txt (line 13)) (1.11.0)\n",
      "Collecting tqdm==4.19.5 (from -r requirements.txt (line 14))\n",
      "\u001b[?25l  Downloading https://files.pythonhosted.org/packages/71/3c/341b4fa23cb3abc335207dba057c790f3bb329f6757e1fcd5d347bcf8308/tqdm-4.19.5-py2.py3-none-any.whl (51kB)\n",
      "\u001b[K    100% |████████████████████████████████| 61kB 5.9MB/s ta 0:00:01\n",
      "\u001b[?25hCollecting osqp (from cvxpy==1.0.3->-r requirements.txt (line 2))\n",
      "\u001b[?25l  Downloading https://files.pythonhosted.org/packages/76/82/b0693a167e4b9b5e94f4988f6df3d7866e9e41a316a58f1053dd21370f1a/osqp-0.6.2.post0-cp36-cp36m-manylinux1_x86_64.whl (211kB)\n",
      "\u001b[K    100% |████████████████████████████████| 215kB 9.8MB/s ta 0:00:011\n",
      "\u001b[?25hCollecting ecos>=2 (from cvxpy==1.0.3->-r requirements.txt (line 2))\n",
      "\u001b[?25l  Downloading https://files.pythonhosted.org/packages/55/ed/d131ff51f3a8f73420eb1191345eb49f269f23cadef515172e356018cde3/ecos-2.0.7.post1-cp36-cp36m-manylinux1_x86_64.whl (147kB)\n",
      "\u001b[K    100% |████████████████████████████████| 153kB 4.1MB/s ta 0:00:01    97% |███████████████████████████████▏| 143kB 7.9MB/s eta 0:00:01\n",
      "\u001b[?25hCollecting scs>=1.1.3 (from cvxpy==1.0.3->-r requirements.txt (line 2))\n",
      "\u001b[?25l  Downloading https://files.pythonhosted.org/packages/5f/f3/7e11e9c0dc22c2bf2e8b4be1ade4fb8055dbe9ea29fd9bda455844b9d7ca/scs-2.1.4.tar.gz (6.6MB)\n",
      "\u001b[K    100% |████████████████████████████████| 6.6MB 3.4MB/s ta 0:00:011  3% |█▏                              | 235kB 6.7MB/s eta 0:00:01    9% |███                             | 593kB 7.0MB/s eta 0:00:01    15% |████▉                           | 993kB 7.1MB/s eta 0:00:01    26% |████████▌                       | 1.7MB 6.9MB/s eta 0:00:01    32% |██████████▌                     | 2.1MB 10.9MB/s eta 0:00:01    38% |████████████▎                   | 2.5MB 9.1MB/s eta 0:00:01    43% |██████████████                  | 2.9MB 8.1MB/s eta 0:00:01    49% |███████████████▉                | 3.2MB 8.5MB/s eta 0:00:01    56% |██████████████████              | 3.7MB 9.6MB/s eta 0:00:01    69% |██████████████████████▎         | 4.6MB 11.2MB/s eta 0:00:01    83% |██████████████████████████▋     | 5.5MB 8.9MB/s eta 0:00:01    90% |█████████████████████████████   | 5.9MB 8.1MB/s eta 0:00:01    96% |███████████████████████████████ | 6.3MB 9.1MB/s eta 0:00:01\n",
      "\u001b[?25h  Installing build dependencies ... \u001b[?25ldone\n",
      "\u001b[?25hCollecting multiprocess (from cvxpy==1.0.3->-r requirements.txt (line 2))\n",
      "\u001b[?25l  Downloading https://files.pythonhosted.org/packages/8f/dc/426a82723c460cfab653ebb717590103d6e38cebc9d1f599b0898915ac1d/multiprocess-0.70.11.1-py36-none-any.whl (101kB)\n",
      "\u001b[K    100% |████████████████████████████████| 102kB 4.6MB/s a 0:00:01\n",
      "\u001b[?25hRequirement already satisfied: fastcache in /opt/conda/lib/python3.6/site-packages (from cvxpy==1.0.3->-r requirements.txt (line 2)) (1.0.2)\n",
      "Requirement already satisfied: toolz in /opt/conda/lib/python3.6/site-packages (from cvxpy==1.0.3->-r requirements.txt (line 2)) (0.8.2)\n",
      "Requirement already satisfied: decorator>=4.0.6 in /opt/conda/lib/python3.6/site-packages (from plotly==2.2.3->-r requirements.txt (line 6)) (4.0.11)\n",
      "Requirement already satisfied: nbformat>=4.2 in /opt/conda/lib/python3.6/site-packages (from plotly==2.2.3->-r requirements.txt (line 6)) (4.4.0)\n",
      "Requirement already satisfied: chardet<3.1.0,>=3.0.2 in /opt/conda/lib/python3.6/site-packages (from requests==2.18.4->-r requirements.txt (line 10)) (3.0.4)\n",
      "Requirement already satisfied: idna<2.7,>=2.5 in /opt/conda/lib/python3.6/site-packages (from requests==2.18.4->-r requirements.txt (line 10)) (2.6)\n",
      "Requirement already satisfied: urllib3<1.23,>=1.21.1 in /opt/conda/lib/python3.6/site-packages (from requests==2.18.4->-r requirements.txt (line 10)) (1.22)\n",
      "Requirement already satisfied: certifi>=2017.4.17 in /opt/conda/lib/python3.6/site-packages (from requests==2.18.4->-r requirements.txt (line 10)) (2019.11.28)\n",
      "Collecting qdldl (from osqp->cvxpy==1.0.3->-r requirements.txt (line 2))\n",
      "\u001b[?25l  Downloading https://files.pythonhosted.org/packages/ec/a3/db0e7c9fec5387dc33cbd2819329c141ba76497148aa9fab4bd1a7c2a279/qdldl-0.1.5.post0.tar.gz (69kB)\n",
      "\u001b[K    100% |████████████████████████████████| 71kB 5.5MB/s ta 0:00:011\n",
      "\u001b[?25hCollecting dill>=0.3.3 (from multiprocess->cvxpy==1.0.3->-r requirements.txt (line 2))\n",
      "\u001b[?25l  Downloading https://files.pythonhosted.org/packages/52/d6/79f40d230895fa1ce3b6af0d22e0ac79c65175dc069c194b79cc8e05a033/dill-0.3.3-py2.py3-none-any.whl (81kB)\n",
      "\u001b[K    100% |████████████████████████████████| 81kB 5.0MB/s ta 0:00:011\n",
      "\u001b[?25hRequirement already satisfied: ipython-genutils in /opt/conda/lib/python3.6/site-packages (from nbformat>=4.2->plotly==2.2.3->-r requirements.txt (line 6)) (0.2.0)\n",
      "Requirement already satisfied: jupyter-core in /opt/conda/lib/python3.6/site-packages (from nbformat>=4.2->plotly==2.2.3->-r requirements.txt (line 6)) (4.4.0)\n",
      "Requirement already satisfied: jsonschema!=2.5.0,>=2.4 in /opt/conda/lib/python3.6/site-packages (from nbformat>=4.2->plotly==2.2.3->-r requirements.txt (line 6)) (2.6.0)\n",
      "Requirement already satisfied: traitlets>=4.1 in /opt/conda/lib/python3.6/site-packages (from nbformat>=4.2->plotly==2.2.3->-r requirements.txt (line 6)) (4.3.2)\n",
      "Building wheels for collected packages: cvxpy, plotly, scs, qdldl\n",
      "  Running setup.py bdist_wheel for cvxpy ... \u001b[?25ldone\n",
      "\u001b[?25h  Stored in directory: /root/.cache/pip/wheels/2b/60/0b/0c2596528665e21d698d6f84a3406c52044c7b4ca6ac737cf3\n",
      "  Running setup.py bdist_wheel for plotly ... \u001b[?25ldone\n",
      "\u001b[?25h  Stored in directory: /root/.cache/pip/wheels/98/54/81/dd92d5b0858fac680cd7bdb8800eb26c001dd9f5dc8b1bc0ba\n",
      "  Running setup.py bdist_wheel for scs ... \u001b[?25ldone\n",
      "\u001b[?25h  Stored in directory: /root/.cache/pip/wheels/c2/05/3f/9a73cbe83da87283e6db2a2767c3d1a7c1e7ff090342c43bcb\n",
      "  Running setup.py bdist_wheel for qdldl ... \u001b[?25ldone\n",
      "\u001b[?25h  Stored in directory: /root/.cache/pip/wheels/a9/77/d6/726fc4a2ae1513b4663b81721f5d75e9b4fe9d74ca7a8a5417\n",
      "Successfully built cvxpy plotly scs qdldl\n",
      "\u001b[31mtensorflow 1.3.0 requires tensorflow-tensorboard<0.2.0,>=0.1.0, which is not installed.\u001b[0m\n",
      "\u001b[31mmoviepy 0.2.3.2 has requirement tqdm==4.11.2, but you'll have tqdm 4.19.5 which is incompatible.\u001b[0m\n",
      "Installing collected packages: numpy, scipy, qdldl, osqp, ecos, scs, dill, multiprocess, cvxpy, pandas, plotly, tqdm\n",
      "  Found existing installation: numpy 1.12.1\n",
      "    Uninstalling numpy-1.12.1:\n",
      "      Successfully uninstalled numpy-1.12.1\n",
      "  Found existing installation: scipy 1.2.1\n",
      "    Uninstalling scipy-1.2.1:\n",
      "      Successfully uninstalled scipy-1.2.1\n",
      "  Found existing installation: dill 0.2.7.1\n",
      "    Uninstalling dill-0.2.7.1:\n",
      "      Successfully uninstalled dill-0.2.7.1\n",
      "  Found existing installation: pandas 0.23.3\n",
      "    Uninstalling pandas-0.23.3:\n",
      "      Successfully uninstalled pandas-0.23.3\n",
      "  Found existing installation: plotly 2.0.15\n",
      "    Uninstalling plotly-2.0.15:\n",
      "      Successfully uninstalled plotly-2.0.15\n",
      "  Found existing installation: tqdm 4.11.2\n",
      "    Uninstalling tqdm-4.11.2:\n",
      "      Successfully uninstalled tqdm-4.11.2\n",
      "Successfully installed cvxpy-1.0.3 dill-0.3.3 ecos-2.0.7.post1 multiprocess-0.70.11.1 numpy-1.14.5 osqp-0.6.2.post0 pandas-0.21.1 plotly-2.2.3 qdldl-0.1.5.post0 scipy-1.0.0 scs-2.1.4 tqdm-4.19.5\n"
     ]
    }
   ],
   "source": [
    "import sys\n",
    "!{sys.executable} -m pip install -r requirements.txt"
   ]
  },
  {
   "cell_type": "markdown",
   "metadata": {},
   "source": [
    "## Imports"
   ]
  },
  {
   "cell_type": "code",
   "execution_count": null,
   "metadata": {},
   "outputs": [],
   "source": [
    "import cvxpy as cvx\n",
    "import numpy as np\n",
    "import quiz_tests_advanced"
   ]
  },
  {
   "cell_type": "markdown",
   "metadata": {},
   "source": [
    "## What's our objective?\n",
    "http://www.cvxpy.org/\n",
    "\n",
    "Let's see how we can use optimization to meet a more advanced objective.  We want to both minimize the portfolio variance and also want to closely track a market cap weighted index.  In other words, we're trying to minimize the distance between the weights of our portfolio and the weights of the index.\n",
    "\n",
    "$Minimize \\left [ \\sigma^2_p + \\lambda \\sqrt{\\sum_{1}^{m}(weight_i - indexWeight_i)^2} \\right  ]$ where $m$ is the number of stocks in the portfolio, and $\\lambda$ is a scaling factor that you can choose.\n"
   ]
  },
  {
   "cell_type": "markdown",
   "metadata": {},
   "source": [
    "## Hints\n",
    "\n",
    "### x vector\n",
    "To create a vector of M variables $\\mathbf{x} = \\begin{bmatrix}\n",
    "x_1 &...& x_M\n",
    "\\end{bmatrix}\n",
    "$\n",
    "we can use `cvx.Variable(m)`\n",
    "\n",
    "### covariance matrix\n",
    "If we have $m$ stock series, the covariance matrix is an $m \\times m$ matrix containing the covariance between each pair of stocks.  We can use [numpy.cov](https://docs.scipy.org/doc/numpy/reference/generated/numpy.cov.html) to get the covariance.  We give it a 2D array in which each row is a stock series, and each column is an observation at the same period of time.\n",
    "\n",
    "The covariance matrix $\\mathbf{P} = \n",
    "\\begin{bmatrix}\n",
    "\\sigma^2_{1,1} & ... & \\sigma^2_{1,m} \\\\ \n",
    "... & ... & ...\\\\\n",
    "\\sigma_{m,1} & ... & \\sigma^2_{m,m}  \\\\\n",
    "\\end{bmatrix}$"
   ]
  },
  {
   "cell_type": "markdown",
   "metadata": {},
   "source": [
    "### portfolio variance\n",
    "We can write the portfolio variance $\\sigma^2_p = \\mathbf{x^T} \\mathbf{P} \\mathbf{x}$\n",
    "\n",
    "Recall that the $\\mathbf{x^T} \\mathbf{P} \\mathbf{x}$ is called the quadratic form.\n",
    "We can use the cvxpy function `quad_form(x,P)` to get the quadratic form.\n",
    "\n",
    "### Distance from index weights\n",
    "We want portfolio weights that track the index closely.  So we want to minimize the distance between them.\n",
    "Recall from the Pythagorean theorem that you can get the distance between two points in an x,y plane by adding the square of the x and y distances and taking the square root.  Extending this to any number of dimensions is called the L2 norm.  So: $\\sqrt{\\sum_{1}^{n}(weight_i - indexWeight_i)^2}$  Can also be written as $\\left \\| \\mathbf{x} - \\mathbf{index} \\right \\|_2$.  There's a cvxpy function called [norm()](https://www.cvxpy.org/api_reference/cvxpy.atoms.other_atoms.html#norm)\n",
    "`norm(x, p=2, axis=None)`.  The default is already set to find an L2 norm, so you would pass in one argument, which is the difference between your portfolio weights and the index weights.\n",
    "\n",
    "### objective function\n",
    "We want to minimize both the portfolio variance and the distance of the portfolio weights from the index weights.\n",
    "We also want to choose a `scale` constant, which is $\\lambda$ in the expression. This lets us choose how much priority we give to minimizing the difference from the index, relative to minimizing the variance of the portfolio.  If you choose a higher value for `scale` ($\\lambda$), do you think this gives more priority to minimizing the difference, or minimizing the variance?\n",
    "\n",
    "We can find the objective function using cvxpy `objective = cvx.Minimize()`.  Can you guess what to pass into this function?\n",
    "\n",
    "### constraints\n",
    "We can also define our constraints in a list.  For example, you'd want the weights to sum to one. So $\\sum_{1}^{n}x = 1$.  You may also need to go long only, which means no shorting, so no negative weights.  So $x_i >0 $ for all $i$. you could save a variable as `[x >= 0, sum(x) == 1]`, where x was created using `cvx.Variable()`."
   ]
  },
  {
   "cell_type": "markdown",
   "metadata": {},
   "source": [
    "### optimization\n",
    "So now that we have our objective function and constraints, we can solve for the values of $\\mathbf{x}$.\n",
    "cvxpy has the constructor `Problem(objective, constraints)`, which returns a `Problem` object.\n",
    "\n",
    "The `Problem` object has a function solve(), which returns the minimum of the solution.  In this case, this is the minimum variance of the portfolio.\n",
    "\n",
    "It also updates the vector $\\mathbf{x}$.\n",
    "\n",
    "We can check out the values of $x_A$ and $x_B$ that gave the minimum portfolio variance by using `x.value`"
   ]
  },
  {
   "cell_type": "markdown",
   "metadata": {},
   "source": [
    "## Quiz"
   ]
  },
  {
   "cell_type": "code",
   "execution_count": 4,
   "metadata": {},
   "outputs": [
    {
     "name": "stdout",
     "output_type": "stream",
     "text": [
      "Tests Passed\n"
     ]
    }
   ],
   "source": [
    "import cvxpy as cvx\n",
    "import numpy as np\n",
    "\n",
    "def optimize_portfolio(returns, index_weights, scale=.00001):\n",
    "    \"\"\"\n",
    "    Create a function that takes the return series of a set of stocks, the index weights,\n",
    "    and scaling factor. The function will minimize a combination of the portfolio variance\n",
    "    and the distance of its weights from the index weights.  \n",
    "    The optimization will be constrained to be long only, and the weights should sum to one.\n",
    "    \n",
    "    Parameters\n",
    "    ----------\n",
    "    returns : numpy.ndarray\n",
    "        2D array containing stock return series in each row.\n",
    "        \n",
    "    index_weights : numpy.ndarray\n",
    "        1D numpy array containing weights of the index.\n",
    "        \n",
    "    scale : float\n",
    "        The scaling factor applied to the distance between portfolio and index weights\n",
    "        \n",
    "    Returns\n",
    "    -------\n",
    "    x : np.ndarray\n",
    "        A numpy ndarray containing the weights of the stocks in the optimized portfolio\n",
    "    \"\"\"\n",
    "    # TODO: Use cvxpy to determine the weights on the assets\n",
    "    # that minimizes the combination of portfolio variance and distance from index weights\n",
    "    \n",
    "    # number of stocks m is number of rows of returns, and also number of index weights\n",
    "    m = returns.shape[0]\n",
    "    \n",
    "    #covariance matrix of returns\n",
    "    cov = np.cov(returns)\n",
    "    \n",
    "    # x variables (to be found with optimization)\n",
    "    x = cvx.Variable(m)\n",
    "    \n",
    "    #portfolio variance, in quadratic form\n",
    "    portfolio_variance = cvx.quad_form(x,cov)\n",
    "    \n",
    "    # euclidean distance (L2 norm) between portfolio and index weights\n",
    "    distance_to_index = cvx.norm(x - index_weights)\n",
    "    \n",
    "    #objective function\n",
    "    objective = cvx.Minimize(portfolio_variance + scale * distance_to_index)\n",
    "    \n",
    "    #constraints\n",
    "    constraints = [x >= 0, sum(x) == 1]\n",
    "\n",
    "    #use cvxpy to solve the objective\n",
    "    problem = cvx.Problem(objective, constraints)\n",
    "    \n",
    "    min_value = problem.solve()\n",
    "\n",
    "    #retrieve the weights of the optimized portfolio\n",
    "    x_values = x.value\n",
    "    \n",
    "    return x_values\n",
    "\n",
    "quiz_tests_advanced.test_optimize_portfolio(optimize_portfolio)"
   ]
  },
  {
   "cell_type": "code",
   "execution_count": 5,
   "metadata": {},
   "outputs": [
    {
     "name": "stdout",
     "output_type": "stream",
     "text": [
      "The optimized weights are [0.86734535 0.11652985 0.01612481], which sum to 1.00\n"
     ]
    }
   ],
   "source": [
    "\"\"\"Test with a 3 simulated stock return series\"\"\"\n",
    "days_per_year = 252\n",
    "years = 3\n",
    "total_days = days_per_year * years\n",
    "\n",
    "return_market = np.random.normal(loc=0.05, scale=0.3, size=days_per_year)\n",
    "return_1 = np.random.uniform(low=-0.000001, high=.000001, size=days_per_year) + return_market\n",
    "return_2 = np.random.uniform(low=-0.000001, high=.000001, size=days_per_year) + return_market\n",
    "return_3 = np.random.uniform(low=-0.000001, high=.000001, size=days_per_year) + return_market\n",
    "returns = np.array([return_1, return_2, return_3])\n",
    "\n",
    "\"\"\"simulate index weights\"\"\"\n",
    "index_weights = np.array([0.9,0.15,0.05])\n",
    "\n",
    "\"\"\"try out your optimization function\"\"\"\n",
    "x_values = optimize_portfolio(returns, index_weights, scale=.00001)\n",
    "\n",
    "print(f\"The optimized weights are {x_values}, which sum to {sum(x_values):.2f}\")"
   ]
  },
  {
   "cell_type": "markdown",
   "metadata": {},
   "source": [
    "If you're feeling stuck, you can check out the solution [here](m3l4_cvxpy_advanced_solution.ipynb)"
   ]
  },
  {
   "cell_type": "code",
   "execution_count": null,
   "metadata": {},
   "outputs": [],
   "source": []
  }
 ],
 "metadata": {
  "kernelspec": {
   "display_name": "Python 3",
   "language": "python",
   "name": "python3"
  },
  "language_info": {
   "codemirror_mode": {
    "name": "ipython",
    "version": 3
   },
   "file_extension": ".py",
   "mimetype": "text/x-python",
   "name": "python",
   "nbconvert_exporter": "python",
   "pygments_lexer": "ipython3",
   "version": "3.6.3"
  }
 },
 "nbformat": 4,
 "nbformat_minor": 2
}
